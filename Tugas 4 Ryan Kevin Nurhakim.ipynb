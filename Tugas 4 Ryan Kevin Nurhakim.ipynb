{
 "cells": [
  {
   "cell_type": "code",
   "execution_count": 2,
   "metadata": {},
   "outputs": [
    {
     "name": "stdout",
     "output_type": "stream",
     "text": [
      "hasil 10 + 5 = 15\n",
      "hasil 10 - 5 = 5\n",
      "hasil 10 x 5 = 50\n",
      "hasil 10 : 5 = 2.0\n",
      "hasil 10 sisa bagi 5 = 0\n",
      "hasil 10 pangkat 5 = 100000\n"
     ]
    }
   ],
   "source": [
    "#Ryan Kevin Nurhakim\n",
    "\n",
    "a = 10\n",
    "b = 5\n",
    "c = a+b \n",
    "print (\"hasil\",a,\"+\",b,\"=\",c) #Penjumlahan\n",
    "\n",
    "d = a-b\n",
    "print (\"hasil\",a,\"-\",b,\"=\",d) #Pengurangan\n",
    "\n",
    "e = a*b\n",
    "print (\"hasil\",a,\"x\",b,\"=\",e) #Perkalian\n",
    "\n",
    "f = a/b\n",
    "print (\"hasil\",a,\":\",b,\"=\",f) #Pembagian\n",
    "\n",
    "g = a%b\n",
    "print (\"hasil\",a,\"sisa bagi\",b,\"=\",g) #Sisa Bagi\n",
    "\n",
    "h = a**b\n",
    "print (\"hasil\",a,\"pangkat\",b,\"=\",h) #Pemangkatan"
   ]
  },
  {
   "cell_type": "code",
   "execution_count": 3,
   "metadata": {},
   "outputs": [
    {
     "name": "stdout",
     "output_type": "stream",
     "text": [
      "27\n",
      "32\n",
      "27\n",
      "135\n",
      "27.0\n",
      "2.0\n",
      "32.0\n"
     ]
    }
   ],
   "source": [
    "#Ryan Kevin Nurhakim\n",
    "\n",
    "a = 27\n",
    "print(a) #Pengisian\n",
    "\n",
    "a+= 5\n",
    "print(a) #Penjumlahan\n",
    "\n",
    "a-= 5\n",
    "print(a) #Pengurangan\n",
    "\n",
    "a*= 5\n",
    "print(a) #Perkalian\n",
    "\n",
    "a/= 5\n",
    "print(a) #Pembagian\n",
    "\n",
    "a%= 5\n",
    "print(a) #Sisa Bagi\n",
    "\n",
    "a**= 5\n",
    "print(a) #Pemangkatan"
   ]
  },
  {
   "cell_type": "code",
   "execution_count": 4,
   "metadata": {},
   "outputs": [
    {
     "name": "stdout",
     "output_type": "stream",
     "text": [
      "apakah a lebih besar dengan b: True\n",
      "apakah a lebih kecil dengan b: False\n",
      "apakah a sama dengan b: False\n",
      "apakah a tidak sama dengan b: True\n",
      "apakah a lebih besar sama dengan b: True\n",
      "apakah a lebih kecil sama dengan b: False\n"
     ]
    }
   ],
   "source": [
    "a = 15\n",
    "\n",
    "b = 10\n",
    "c = a>b\n",
    "print(\"apakah a lebih besar dengan b:\",c) #Apakah a lebih besar dari b\n",
    "\n",
    "d = a<b\n",
    "print(\"apakah a lebih kecil dengan b:\",d)  #Apakah a lebih kecil dengan b\n",
    "\n",
    "e = a==b\n",
    "print(\"apakah a sama dengan b:\",e) #Apakah a sama dengan b\n",
    "\n",
    "f = a!= b\n",
    "print(\"apakah a tidak sama dengan b:\",f) #Apakah a tidak sama dengan b\n",
    "\n",
    "g = a>=b\n",
    "print(\"apakah a lebih besar sama dengan b:\",g) #Apakah a lebih besar sama dengan b\n",
    "\n",
    "h = a<=b\n",
    "print(\"apakah a lebih kecil sama dengan b:\",h) #Apakah a lebih kecil sama dengan b"
   ]
  },
  {
   "cell_type": "code",
   "execution_count": 6,
   "metadata": {},
   "outputs": [
    {
     "name": "stdout",
     "output_type": "stream",
     "text": [
      "False\n",
      "True\n"
     ]
    },
    {
     "data": {
      "text/plain": [
       "False"
      ]
     },
     "execution_count": 6,
     "metadata": {},
     "output_type": "execute_result"
    }
   ],
   "source": [
    "a = True\n",
    "b = False\n",
    "             #Logika AND\n",
    "c = a and b\n",
    "print(c)\n",
    "             #Logika OR\n",
    "d = a or b\n",
    "print(d)\n",
    "not a        #Negasi/kebalikan"
   ]
  },
  {
   "cell_type": "code",
   "execution_count": 8,
   "metadata": {},
   "outputs": [
    {
     "name": "stdout",
     "output_type": "stream",
     "text": [
      "nama bayi?Spenzer\n",
      "berat bayi7\n",
      "nama bayi adalah: Spenzer berat dalam kg kg,berat dalam ons: 70 ons,berat bayi dalam 1 bulan kedepan adalah 100 ons\n"
     ]
    }
   ],
   "source": [
    "#Input\n",
    "nama = input(\"nama bayi?\")\n",
    "berat = int(input(\"berat bayi\"))\n",
    "ons = berat * 10\n",
    "ons1 = ons + 30\n",
    "print(\"nama bayi adalah:\",nama,\"berat dalam kg\",\"kg,berat dalam ons:\",ons,\"ons,berat bayi dalam 1 bulan kedepan adalah\",ons1,\"ons\")"
   ]
  },
  {
   "cell_type": "code",
   "execution_count": null,
   "metadata": {},
   "outputs": [],
   "source": []
  }
 ],
 "metadata": {
  "kernelspec": {
   "display_name": "Python 3",
   "language": "python",
   "name": "python3"
  },
  "language_info": {
   "codemirror_mode": {
    "name": "ipython",
    "version": 3
   },
   "file_extension": ".py",
   "mimetype": "text/x-python",
   "name": "python",
   "nbconvert_exporter": "python",
   "pygments_lexer": "ipython3",
   "version": "3.8.3"
  }
 },
 "nbformat": 4,
 "nbformat_minor": 4
}
